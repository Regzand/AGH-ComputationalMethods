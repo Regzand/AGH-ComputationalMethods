{
 "cells": [
  {
   "cell_type": "code",
   "execution_count": 1,
   "metadata": {},
   "outputs": [],
   "source": [
    "import numpy as np\n",
    "import math"
   ]
  },
  {
   "cell_type": "markdown",
   "metadata": {},
   "source": [
    "### Utility functions"
   ]
  },
  {
   "cell_type": "code",
   "execution_count": 2,
   "metadata": {},
   "outputs": [],
   "source": [
    "def is_symmetric(A):\n",
    "    return np.all(A-A.T == 0)"
   ]
  },
  {
   "cell_type": "code",
   "execution_count": 3,
   "metadata": {},
   "outputs": [],
   "source": [
    "def is_positive_definite(A):\n",
    "    return np.all(np.linalg.eigvals(A) > 0)"
   ]
  },
  {
   "cell_type": "code",
   "execution_count": 4,
   "metadata": {},
   "outputs": [],
   "source": [
    "def extended_matrix(A,B):\n",
    "    return np.append(A, B, axis=1)"
   ]
  },
  {
   "cell_type": "code",
   "execution_count": 5,
   "metadata": {},
   "outputs": [],
   "source": [
    "def is_singular(A):\n",
    "    return np.isclose(0, np.linalg.det(A))"
   ]
  },
  {
   "cell_type": "markdown",
   "metadata": {},
   "source": [
    "### Substitution"
   ]
  },
  {
   "cell_type": "code",
   "execution_count": 6,
   "metadata": {},
   "outputs": [],
   "source": [
    "def forward_substitution(L, Y):\n",
    "    n = L.shape[0]\n",
    "    \n",
    "    X = np.zeros((n,1))\n",
    "    \n",
    "    for i in range(n):\n",
    "        X[i,0] = Y[i,0] / L[i,i] \n",
    "        \n",
    "        for j in range(i):\n",
    "            X[i,0] -= L[i,j] * X[j,0] / L[i,i]\n",
    "            \n",
    "    return X"
   ]
  },
  {
   "cell_type": "code",
   "execution_count": 7,
   "metadata": {},
   "outputs": [],
   "source": [
    "def backward_substitution(U, Y):\n",
    "    n = U.shape[0]\n",
    "    \n",
    "    X = np.zeros((n,1))\n",
    "    \n",
    "    for i in range(n-1, -1, -1):\n",
    "        X[i,0] = Y[i,0] / U[i,i]\n",
    "        \n",
    "        for j in range(i + 1, n):\n",
    "            X[i,0] -= U[i,j] * X[j,0] / U[i,i]\n",
    "            \n",
    "    return X"
   ]
  },
  {
   "cell_type": "markdown",
   "metadata": {},
   "source": [
    "### Gauss"
   ]
  },
  {
   "cell_type": "code",
   "execution_count": 8,
   "metadata": {},
   "outputs": [],
   "source": [
    "def gauss(A, B):\n",
    "    if is_singular(A):\n",
    "        raise ValueException(\"Cannot solve equation for singular matrix\")\n",
    "        \n",
    "    U = extended_matrix(A, B)\n",
    "        \n",
    "    n = U.shape[0]\n",
    "    \n",
    "    factor = np.max(np.absolute(A), axis = 1)\n",
    "    for i in range(n):\n",
    "        for k in range(n+1):\n",
    "            U[i,k] /= factor[i]\n",
    "        \n",
    "    for i in range(n):\n",
    "        \n",
    "        row = i\n",
    "        for j in range(i+1, n):\n",
    "            if abs(U[j,i]) > abs(U[row,i]):\n",
    "                row = j\n",
    "        U[[i,row]] = U[[row, i]]\n",
    "        \n",
    "        for j in range(i + 1, n):\n",
    "            factor = U[j,i] / U[i,i]\n",
    "            \n",
    "            for k in range(n + 1):\n",
    "                U[j,k] -= U[i,k] * factor\n",
    "    \n",
    "    for i in range(n - 1, -1, -1):\n",
    "        for j in range(i - 1, -1, -1):\n",
    "            factor = U[j,i] / U[i,i]\n",
    "            \n",
    "            for k in range(n + 1):\n",
    "                U[j,k] -= U[i,k] * factor\n",
    "    \n",
    "    for i in range(n):\n",
    "        U[i,n] /= U[i,i]\n",
    "        U[i,i] /= U[i,i]\n",
    "    \n",
    "    return U[:,n:n+1]"
   ]
  },
  {
   "cell_type": "markdown",
   "metadata": {},
   "source": [
    "### Doolittle"
   ]
  },
  {
   "cell_type": "code",
   "execution_count": 9,
   "metadata": {},
   "outputs": [],
   "source": [
    "def doolittle_decomposition(A):\n",
    "    n = A.shape[0]\n",
    "    \n",
    "    L = np.eye(n)\n",
    "    U = np.zeros((n,n))\n",
    "    \n",
    "    for i in range(n):\n",
    "        \n",
    "        # row\n",
    "        for j in range(i, n):\n",
    "            U[i,j] = A[i,j]\n",
    "            \n",
    "            for k in range(i):\n",
    "                U[i,j] -= L[i,k] * U[k,j]\n",
    "        \n",
    "        # col\n",
    "        for j in range(i + 1, n):\n",
    "            L[j,i] = A[j,i]\n",
    "            \n",
    "            for k in range(i):\n",
    "                L[j,i] -= L[j,k] * U[k,i]\n",
    "                \n",
    "            L[j,i] /= U[i,i]\n",
    "    \n",
    "    return L, U"
   ]
  },
  {
   "cell_type": "code",
   "execution_count": 10,
   "metadata": {},
   "outputs": [],
   "source": [
    "def doolittle(A, Y):\n",
    "    L,U = doolittle_decomposition(A)\n",
    "    Z = forward_substitution(L, Y)\n",
    "    return backward_substitution(U, Z)"
   ]
  },
  {
   "cell_type": "markdown",
   "metadata": {},
   "source": [
    "### Crout"
   ]
  },
  {
   "cell_type": "code",
   "execution_count": 11,
   "metadata": {},
   "outputs": [],
   "source": [
    "def crout_decomposition(A):\n",
    "    n = A.shape[0]\n",
    "    \n",
    "    L = np.zeros((n,n))\n",
    "    U = np.eye(n)\n",
    "    \n",
    "    for i in range(n):\n",
    "        \n",
    "        # col\n",
    "        for j in range(i, n):\n",
    "            L[j,i] = A[j,i]\n",
    "            \n",
    "            for k in range(i):\n",
    "                L[j,i] -= L[j,k] * U[k,i]\n",
    "        \n",
    "        # row\n",
    "        for j in range(i + 1, n):\n",
    "            U[i,j] = A[i,j]\n",
    "            \n",
    "            for k in range(i):\n",
    "                U[i,j] -= L[i,k] * U[k,j]\n",
    "                \n",
    "            U[i,j] /= L[i,i]\n",
    "    \n",
    "    return L, U"
   ]
  },
  {
   "cell_type": "code",
   "execution_count": 12,
   "metadata": {},
   "outputs": [],
   "source": [
    "def crout(A, Y):\n",
    "    L,U = crout_decomposition(A)\n",
    "    Z = forward_substitution(L, Y)\n",
    "    return backward_substitution(U, Z)"
   ]
  },
  {
   "cell_type": "markdown",
   "metadata": {},
   "source": [
    "### Cholesky"
   ]
  },
  {
   "cell_type": "code",
   "execution_count": 13,
   "metadata": {},
   "outputs": [],
   "source": [
    "def cholesky_decomposition(A):\n",
    "    if not is_symmetric(A):\n",
    "        raise ValueError(\"Matrix has to be symmetric to use Cholesky decomposition\")\n",
    "    if not is_positive_definite(A):\n",
    "        raise ValueError(\"Matrix has to be positive definite to use Cholesky decomposition\")\n",
    "    \n",
    "    n = A.shape[0]\n",
    "    \n",
    "    L = np.zeros((n,n))\n",
    "    \n",
    "    for j in range(n):\n",
    "        for i in range(j, n):\n",
    "            L[i,j] = A[i,j]\n",
    "            \n",
    "            for k in range(j):\n",
    "                L[i,j] -= L[i,k] * L[j,k]\n",
    "            \n",
    "            if j == i:\n",
    "                L[i,j] = math.sqrt(L[i,j])\n",
    "            else:\n",
    "                L[i,j] /= L[j,j]\n",
    "    \n",
    "    return L, L.transpose()"
   ]
  },
  {
   "cell_type": "code",
   "execution_count": 14,
   "metadata": {},
   "outputs": [],
   "source": [
    "def cholesky(A, Y):\n",
    "    L,U = cholesky_decomposition(A)\n",
    "    Z = forward_substitution(L, Y)\n",
    "    return backward_substitution(U, Z)"
   ]
  },
  {
   "cell_type": "markdown",
   "metadata": {},
   "source": [
    "---"
   ]
  },
  {
   "cell_type": "markdown",
   "metadata": {},
   "source": [
    "### Manual test"
   ]
  },
  {
   "cell_type": "code",
   "execution_count": 15,
   "metadata": {},
   "outputs": [],
   "source": [
    "A = np.array([[4, 12, -16],[12, 37, -43],[-16, -43, 98]]).astype(\"float32\")\n",
    "Y = np.array([[4],[10],[-6]]).astype(\"float32\")"
   ]
  },
  {
   "cell_type": "code",
   "execution_count": 16,
   "metadata": {},
   "outputs": [
    {
     "data": {
      "text/plain": [
       "array([[ 49.22222  ],\n",
       "       [-13.1111145],\n",
       "       [  2.22222  ]], dtype=float32)"
      ]
     },
     "execution_count": 16,
     "metadata": {},
     "output_type": "execute_result"
    }
   ],
   "source": [
    "gauss(A, Y)"
   ]
  },
  {
   "cell_type": "code",
   "execution_count": 17,
   "metadata": {},
   "outputs": [
    {
     "data": {
      "text/plain": [
       "array([[ 49.22222222],\n",
       "       [-13.11111111],\n",
       "       [  2.22222222]])"
      ]
     },
     "execution_count": 17,
     "metadata": {},
     "output_type": "execute_result"
    }
   ],
   "source": [
    "doolittle(A, Y)"
   ]
  },
  {
   "cell_type": "code",
   "execution_count": 18,
   "metadata": {},
   "outputs": [
    {
     "data": {
      "text/plain": [
       "array([[ 49.22222222],\n",
       "       [-13.11111111],\n",
       "       [  2.22222222]])"
      ]
     },
     "execution_count": 18,
     "metadata": {},
     "output_type": "execute_result"
    }
   ],
   "source": [
    "crout(A, Y)"
   ]
  },
  {
   "cell_type": "code",
   "execution_count": 19,
   "metadata": {},
   "outputs": [
    {
     "data": {
      "text/plain": [
       "array([[ 49.22222222],\n",
       "       [-13.11111111],\n",
       "       [  2.22222222]])"
      ]
     },
     "execution_count": 19,
     "metadata": {},
     "output_type": "execute_result"
    }
   ],
   "source": [
    "cholesky(A, Y)"
   ]
  },
  {
   "cell_type": "code",
   "execution_count": 20,
   "metadata": {},
   "outputs": [
    {
     "data": {
      "text/plain": [
       "array([[ 49.22222  ],\n",
       "       [-13.111111 ],\n",
       "       [  2.2222223]], dtype=float32)"
      ]
     },
     "execution_count": 20,
     "metadata": {},
     "output_type": "execute_result"
    }
   ],
   "source": [
    "np.linalg.solve(A, Y)"
   ]
  },
  {
   "cell_type": "markdown",
   "metadata": {},
   "source": [
    "---"
   ]
  },
  {
   "cell_type": "markdown",
   "metadata": {},
   "source": [
    "### Timing"
   ]
  },
  {
   "cell_type": "code",
   "execution_count": 21,
   "metadata": {},
   "outputs": [],
   "source": [
    "def test(n):\n",
    "    print(\"Test n =\", n)\n",
    "    \n",
    "    A = np.random.rand(n,n)\n",
    "    Y = np.random.rand(n,1)\n",
    "    \n",
    "    test_gauss      = %timeit -o -r 3 -n 1 gauss(A, Y)\n",
    "    test_doolittle  = %timeit -o -r 3 -n 1 doolittle(A, Y)\n",
    "    test_crout      = %timeit -o -r 3 -n 1 crout(A, Y)\n",
    "    test_np         = %timeit -o -r 3 -n 1 np.linalg.solve(A, Y)\n",
    "    \n",
    "    return test_gauss, test_doolittle, test_crout, test_np"
   ]
  },
  {
   "cell_type": "code",
   "execution_count": 22,
   "metadata": {},
   "outputs": [
    {
     "name": "stdout",
     "output_type": "stream",
     "text": [
      "Test n = 10\n",
      "1.95 ms ± 42.3 µs per loop (mean ± std. dev. of 3 runs, 1 loop each)\n",
      "956 µs ± 109 µs per loop (mean ± std. dev. of 3 runs, 1 loop each)\n",
      "901 µs ± 105 µs per loop (mean ± std. dev. of 3 runs, 1 loop each)\n",
      "The slowest run took 206.75 times longer than the fastest. This could mean that an intermediate result is being cached.\n",
      "8.22 ms ± 11.4 ms per loop (mean ± std. dev. of 3 runs, 1 loop each)\n",
      "Test n = 20\n",
      "10.4 ms ± 2.74 ms per loop (mean ± std. dev. of 3 runs, 1 loop each)\n",
      "4.33 ms ± 574 µs per loop (mean ± std. dev. of 3 runs, 1 loop each)\n",
      "4.82 ms ± 1.5 ms per loop (mean ± std. dev. of 3 runs, 1 loop each)\n",
      "153 µs ± 66.7 µs per loop (mean ± std. dev. of 3 runs, 1 loop each)\n",
      "Test n = 30\n",
      "41.3 ms ± 5.57 ms per loop (mean ± std. dev. of 3 runs, 1 loop each)\n",
      "12.3 ms ± 1.81 ms per loop (mean ± std. dev. of 3 runs, 1 loop each)\n",
      "9.79 ms ± 2.18 ms per loop (mean ± std. dev. of 3 runs, 1 loop each)\n",
      "The slowest run took 4.24 times longer than the fastest. This could mean that an intermediate result is being cached.\n",
      "67.8 µs ± 46.6 µs per loop (mean ± std. dev. of 3 runs, 1 loop each)\n",
      "Test n = 40\n",
      "29.5 ms ± 869 µs per loop (mean ± std. dev. of 3 runs, 1 loop each)\n",
      "13.6 ms ± 86.5 µs per loop (mean ± std. dev. of 3 runs, 1 loop each)\n",
      "14.3 ms ± 374 µs per loop (mean ± std. dev. of 3 runs, 1 loop each)\n",
      "68 µs ± 40.9 µs per loop (mean ± std. dev. of 3 runs, 1 loop each)\n",
      "Test n = 50\n",
      "67.3 ms ± 17.9 ms per loop (mean ± std. dev. of 3 runs, 1 loop each)\n",
      "31.7 ms ± 5.65 ms per loop (mean ± std. dev. of 3 runs, 1 loop each)\n",
      "25.7 ms ± 474 µs per loop (mean ± std. dev. of 3 runs, 1 loop each)\n",
      "80.6 µs ± 45.6 µs per loop (mean ± std. dev. of 3 runs, 1 loop each)\n",
      "Test n = 60\n",
      "105 ms ± 8.59 ms per loop (mean ± std. dev. of 3 runs, 1 loop each)\n",
      "45.4 ms ± 2.89 ms per loop (mean ± std. dev. of 3 runs, 1 loop each)\n",
      "49.4 ms ± 5.6 ms per loop (mean ± std. dev. of 3 runs, 1 loop each)\n",
      "119 µs ± 72.9 µs per loop (mean ± std. dev. of 3 runs, 1 loop each)\n",
      "Test n = 70\n",
      "163 ms ± 10.7 ms per loop (mean ± std. dev. of 3 runs, 1 loop each)\n",
      "65.5 ms ± 890 µs per loop (mean ± std. dev. of 3 runs, 1 loop each)\n",
      "74.2 ms ± 3.68 ms per loop (mean ± std. dev. of 3 runs, 1 loop each)\n",
      "The slowest run took 19.68 times longer than the fastest. This could mean that an intermediate result is being cached.\n",
      "918 µs ± 1.03 ms per loop (mean ± std. dev. of 3 runs, 1 loop each)\n",
      "Test n = 80\n",
      "232 ms ± 16.6 ms per loop (mean ± std. dev. of 3 runs, 1 loop each)\n",
      "101 ms ± 8.48 ms per loop (mean ± std. dev. of 3 runs, 1 loop each)\n",
      "174 ms ± 98 ms per loop (mean ± std. dev. of 3 runs, 1 loop each)\n",
      "The slowest run took 10.14 times longer than the fastest. This could mean that an intermediate result is being cached.\n",
      "993 µs ± 907 µs per loop (mean ± std. dev. of 3 runs, 1 loop each)\n",
      "Test n = 90\n",
      "441 ms ± 91.4 ms per loop (mean ± std. dev. of 3 runs, 1 loop each)\n",
      "150 ms ± 1.81 ms per loop (mean ± std. dev. of 3 runs, 1 loop each)\n",
      "143 ms ± 7.85 ms per loop (mean ± std. dev. of 3 runs, 1 loop each)\n",
      "The slowest run took 15.76 times longer than the fastest. This could mean that an intermediate result is being cached.\n",
      "1.88 ms ± 1.76 ms per loop (mean ± std. dev. of 3 runs, 1 loop each)\n",
      "Test n = 100\n",
      "439 ms ± 13 ms per loop (mean ± std. dev. of 3 runs, 1 loop each)\n",
      "193 ms ± 12.5 ms per loop (mean ± std. dev. of 3 runs, 1 loop each)\n",
      "193 ms ± 13.8 ms per loop (mean ± std. dev. of 3 runs, 1 loop each)\n",
      "The slowest run took 28.24 times longer than the fastest. This could mean that an intermediate result is being cached.\n",
      "1.9 ms ± 1.74 ms per loop (mean ± std. dev. of 3 runs, 1 loop each)\n",
      "Test n = 110\n",
      "580 ms ± 13.1 ms per loop (mean ± std. dev. of 3 runs, 1 loop each)\n",
      "249 ms ± 14.5 ms per loop (mean ± std. dev. of 3 runs, 1 loop each)\n",
      "244 ms ± 11.3 ms per loop (mean ± std. dev. of 3 runs, 1 loop each)\n",
      "3.65 ms ± 1.53 ms per loop (mean ± std. dev. of 3 runs, 1 loop each)\n",
      "Test n = 120\n",
      "733 ms ± 12 ms per loop (mean ± std. dev. of 3 runs, 1 loop each)\n",
      "316 ms ± 17.8 ms per loop (mean ± std. dev. of 3 runs, 1 loop each)\n",
      "318 ms ± 17.6 ms per loop (mean ± std. dev. of 3 runs, 1 loop each)\n",
      "The slowest run took 9.80 times longer than the fastest. This could mean that an intermediate result is being cached.\n",
      "3.84 ms ± 2.57 ms per loop (mean ± std. dev. of 3 runs, 1 loop each)\n",
      "Test n = 130\n",
      "976 ms ± 46 ms per loop (mean ± std. dev. of 3 runs, 1 loop each)\n",
      "396 ms ± 12.7 ms per loop (mean ± std. dev. of 3 runs, 1 loop each)\n",
      "392 ms ± 13.8 ms per loop (mean ± std. dev. of 3 runs, 1 loop each)\n",
      "3.51 ms ± 1.41 ms per loop (mean ± std. dev. of 3 runs, 1 loop each)\n",
      "Test n = 140\n",
      "1.15 s ± 12.5 ms per loop (mean ± std. dev. of 3 runs, 1 loop each)\n",
      "493 ms ± 10.3 ms per loop (mean ± std. dev. of 3 runs, 1 loop each)\n",
      "489 ms ± 13.5 ms per loop (mean ± std. dev. of 3 runs, 1 loop each)\n",
      "The slowest run took 6.21 times longer than the fastest. This could mean that an intermediate result is being cached.\n",
      "3.14 ms ± 1.77 ms per loop (mean ± std. dev. of 3 runs, 1 loop each)\n",
      "Test n = 150\n",
      "1.4 s ± 17.2 ms per loop (mean ± std. dev. of 3 runs, 1 loop each)\n",
      "602 ms ± 14.5 ms per loop (mean ± std. dev. of 3 runs, 1 loop each)\n",
      "605 ms ± 23 ms per loop (mean ± std. dev. of 3 runs, 1 loop each)\n",
      "5.45 ms ± 441 µs per loop (mean ± std. dev. of 3 runs, 1 loop each)\n",
      "Test n = 160\n",
      "1.71 s ± 12.6 ms per loop (mean ± std. dev. of 3 runs, 1 loop each)\n",
      "725 ms ± 18.7 ms per loop (mean ± std. dev. of 3 runs, 1 loop each)\n",
      "731 ms ± 31 ms per loop (mean ± std. dev. of 3 runs, 1 loop each)\n",
      "12.2 ms ± 5.26 ms per loop (mean ± std. dev. of 3 runs, 1 loop each)\n",
      "Test n = 170\n",
      "2.05 s ± 38.6 ms per loop (mean ± std. dev. of 3 runs, 1 loop each)\n",
      "862 ms ± 15.5 ms per loop (mean ± std. dev. of 3 runs, 1 loop each)\n",
      "877 ms ± 39.2 ms per loop (mean ± std. dev. of 3 runs, 1 loop each)\n",
      "The slowest run took 6.51 times longer than the fastest. This could mean that an intermediate result is being cached.\n",
      "2.62 ms ± 1.51 ms per loop (mean ± std. dev. of 3 runs, 1 loop each)\n",
      "Test n = 180\n",
      "2.41 s ± 19.9 ms per loop (mean ± std. dev. of 3 runs, 1 loop each)\n",
      "1.02 s ± 14.1 ms per loop (mean ± std. dev. of 3 runs, 1 loop each)\n",
      "1.03 s ± 36.3 ms per loop (mean ± std. dev. of 3 runs, 1 loop each)\n",
      "The slowest run took 5.40 times longer than the fastest. This could mean that an intermediate result is being cached.\n",
      "3.75 ms ± 2.68 ms per loop (mean ± std. dev. of 3 runs, 1 loop each)\n",
      "Test n = 190\n",
      "2.84 s ± 16.7 ms per loop (mean ± std. dev. of 3 runs, 1 loop each)\n",
      "1.19 s ± 7.97 ms per loop (mean ± std. dev. of 3 runs, 1 loop each)\n",
      "1.19 s ± 9.15 ms per loop (mean ± std. dev. of 3 runs, 1 loop each)\n",
      "The slowest run took 6.73 times longer than the fastest. This could mean that an intermediate result is being cached.\n",
      "1.43 ms ± 902 µs per loop (mean ± std. dev. of 3 runs, 1 loop each)\n",
      "Test n = 200\n",
      "3.28 s ± 10.3 ms per loop (mean ± std. dev. of 3 runs, 1 loop each)\n",
      "1.39 s ± 15.5 ms per loop (mean ± std. dev. of 3 runs, 1 loop each)\n",
      "1.38 s ± 9.33 ms per loop (mean ± std. dev. of 3 runs, 1 loop each)\n",
      "7.18 ms ± 3.08 ms per loop (mean ± std. dev. of 3 runs, 1 loop each)\n",
      "Test n = 210\n",
      "3.79 s ± 17.8 ms per loop (mean ± std. dev. of 3 runs, 1 loop each)\n",
      "1.61 s ± 10.8 ms per loop (mean ± std. dev. of 3 runs, 1 loop each)\n",
      "1.59 s ± 8.63 ms per loop (mean ± std. dev. of 3 runs, 1 loop each)\n",
      "2.61 ms ± 1.12 ms per loop (mean ± std. dev. of 3 runs, 1 loop each)\n",
      "Test n = 220\n",
      "4.39 s ± 35 ms per loop (mean ± std. dev. of 3 runs, 1 loop each)\n",
      "1.87 s ± 52.1 ms per loop (mean ± std. dev. of 3 runs, 1 loop each)\n",
      "1.85 s ± 6.43 ms per loop (mean ± std. dev. of 3 runs, 1 loop each)\n",
      "The slowest run took 6.47 times longer than the fastest. This could mean that an intermediate result is being cached.\n",
      "4.4 ms ± 2.47 ms per loop (mean ± std. dev. of 3 runs, 1 loop each)\n",
      "Test n = 230\n",
      "5.18 s ± 247 ms per loop (mean ± std. dev. of 3 runs, 1 loop each)\n",
      "2.1 s ± 9.88 ms per loop (mean ± std. dev. of 3 runs, 1 loop each)\n",
      "2.62 s ± 675 ms per loop (mean ± std. dev. of 3 runs, 1 loop each)\n",
      "830 µs ± 109 µs per loop (mean ± std. dev. of 3 runs, 1 loop each)\n",
      "Test n = 240\n",
      "6.39 s ± 440 ms per loop (mean ± std. dev. of 3 runs, 1 loop each)\n",
      "2.39 s ± 18.2 ms per loop (mean ± std. dev. of 3 runs, 1 loop each)\n",
      "2.38 s ± 16.6 ms per loop (mean ± std. dev. of 3 runs, 1 loop each)\n",
      "The slowest run took 6.52 times longer than the fastest. This could mean that an intermediate result is being cached.\n",
      "1.44 ms ± 1.21 ms per loop (mean ± std. dev. of 3 runs, 1 loop each)\n",
      "Test n = 250\n"
     ]
    },
    {
     "name": "stdout",
     "output_type": "stream",
     "text": [
      "6.37 s ± 22.1 ms per loop (mean ± std. dev. of 3 runs, 1 loop each)\n",
      "2.79 s ± 120 ms per loop (mean ± std. dev. of 3 runs, 1 loop each)\n",
      "2.7 s ± 21.6 ms per loop (mean ± std. dev. of 3 runs, 1 loop each)\n",
      "The slowest run took 4.85 times longer than the fastest. This could mean that an intermediate result is being cached.\n",
      "4.53 ms ± 2.55 ms per loop (mean ± std. dev. of 3 runs, 1 loop each)\n",
      "Test n = 260\n",
      "7.42 s ± 100 ms per loop (mean ± std. dev. of 3 runs, 1 loop each)\n",
      "3.06 s ± 27.6 ms per loop (mean ± std. dev. of 3 runs, 1 loop each)\n",
      "3.13 s ± 118 ms per loop (mean ± std. dev. of 3 runs, 1 loop each)\n",
      "3.2 ms ± 1.49 ms per loop (mean ± std. dev. of 3 runs, 1 loop each)\n",
      "Test n = 270\n",
      "8.28 s ± 81.5 ms per loop (mean ± std. dev. of 3 runs, 1 loop each)\n",
      "3.49 s ± 111 ms per loop (mean ± std. dev. of 3 runs, 1 loop each)\n",
      "4.84 s ± 966 ms per loop (mean ± std. dev. of 3 runs, 1 loop each)\n",
      "5.57 ms ± 2.35 ms per loop (mean ± std. dev. of 3 runs, 1 loop each)\n",
      "Test n = 280\n",
      "11.5 s ± 973 ms per loop (mean ± std. dev. of 3 runs, 1 loop each)\n",
      "4.22 s ± 281 ms per loop (mean ± std. dev. of 3 runs, 1 loop each)\n",
      "4.32 s ± 125 ms per loop (mean ± std. dev. of 3 runs, 1 loop each)\n",
      "3.39 ms ± 1.03 ms per loop (mean ± std. dev. of 3 runs, 1 loop each)\n",
      "Test n = 290\n",
      "11.1 s ± 552 ms per loop (mean ± std. dev. of 3 runs, 1 loop each)\n",
      "4.6 s ± 286 ms per loop (mean ± std. dev. of 3 runs, 1 loop each)\n",
      "4.94 s ± 598 ms per loop (mean ± std. dev. of 3 runs, 1 loop each)\n",
      "2.54 ms ± 383 µs per loop (mean ± std. dev. of 3 runs, 1 loop each)\n",
      "Test n = 300\n",
      "12.9 s ± 870 ms per loop (mean ± std. dev. of 3 runs, 1 loop each)\n",
      "5.53 s ± 408 ms per loop (mean ± std. dev. of 3 runs, 1 loop each)\n",
      "6.89 s ± 2.11 s per loop (mean ± std. dev. of 3 runs, 1 loop each)\n",
      "2.57 ms ± 1.14 ms per loop (mean ± std. dev. of 3 runs, 1 loop each)\n"
     ]
    }
   ],
   "source": [
    "results = {n: tuple(map(lambda t: np.average(t.timings), test(n))) for n in range(10, 301, 10)}"
   ]
  },
  {
   "cell_type": "code",
   "execution_count": 23,
   "metadata": {},
   "outputs": [],
   "source": [
    "headers = ['n','Gauss','Doolittle','Crout','NumPy']\n",
    "\n",
    "with open('results.csv', 'w') as file:\n",
    "    file.write(','.join(headers)+'\\n')\n",
    "    for n,res in results.items():\n",
    "        file.write('{},{},{},{},{}\\n'.format(n, *res))"
   ]
  }
 ],
 "metadata": {
  "kernelspec": {
   "display_name": "Python 3",
   "language": "python",
   "name": "python3"
  },
  "language_info": {
   "codemirror_mode": {
    "name": "ipython",
    "version": 3
   },
   "file_extension": ".py",
   "mimetype": "text/x-python",
   "name": "python",
   "nbconvert_exporter": "python",
   "pygments_lexer": "ipython3",
   "version": "3.6.5"
  }
 },
 "nbformat": 4,
 "nbformat_minor": 2
}
