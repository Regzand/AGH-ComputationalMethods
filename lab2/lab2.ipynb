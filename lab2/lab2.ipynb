{
 "cells": [
  {
   "cell_type": "code",
   "execution_count": 1,
   "metadata": {},
   "outputs": [],
   "source": [
    "import numpy as np"
   ]
  },
  {
   "cell_type": "markdown",
   "metadata": {},
   "source": [
    "## Multiplication"
   ]
  },
  {
   "cell_type": "code",
   "execution_count": 2,
   "metadata": {},
   "outputs": [],
   "source": [
    "def mul_list(A, B):\n",
    "    C = [[0 for y in range(len(B[0]))] for x in range(len(A))]\n",
    "    \n",
    "    for x in range(len(A)):\n",
    "        for y in range(len(B[0])):\n",
    "            for i in range(len(A[0])):\n",
    "                C[x][y] += A[x][i] * B[i][y]\n",
    "    \n",
    "    return C"
   ]
  },
  {
   "cell_type": "code",
   "execution_count": 3,
   "metadata": {},
   "outputs": [],
   "source": [
    "def mul_listcomprehension(A, B):\n",
    "    return [[sum(A[x][i] * B[i][y] for i in range(len(A[0]))) for y in range(len(B[0]))] for x in range(len(A))]"
   ]
  },
  {
   "cell_type": "code",
   "execution_count": 4,
   "metadata": {},
   "outputs": [],
   "source": [
    "def mul_matrix(A, B):\n",
    "    if(A.shape[1] != B.shape[0]):\n",
    "        raise ValueError(\"Cannot multiply matrixes of incompatible size\")\n",
    "    \n",
    "    C = np.zeros((A.shape[0], B.shape[1]))\n",
    "    \n",
    "    for x in range(C.shape[0]):\n",
    "        for y in range(C.shape[1]):\n",
    "            for i in range(A.shape[1]):\n",
    "                C[x][y] += A[x][i] * B[i][y]\n",
    "    \n",
    "    return C"
   ]
  },
  {
   "cell_type": "markdown",
   "metadata": {},
   "source": [
    "## Testing"
   ]
  },
  {
   "cell_type": "code",
   "execution_count": 5,
   "metadata": {},
   "outputs": [],
   "source": [
    "def test(n):\n",
    "    A = np.random.rand(n,n)\n",
    "    B = np.random.rand(n,n)\n",
    "    \n",
    "    test_np = %timeit -o -r 3 -n 100 A.dot(B)\n",
    "    test_matrix = %timeit -o -r 3 -n 100 mul_matrix(A, B)\n",
    "    \n",
    "    A = A.tolist()\n",
    "    B = B.tolist()\n",
    "    \n",
    "    test_list = %timeit -o -r 3 -n 100 mul_list(A, B)\n",
    "    test_comp = %timeit -o -r 3 -n 100 mul_listcomprehension(A,B)\n",
    "    \n",
    "    return test_list, test_comp, test_matrix, test_np"
   ]
  },
  {
   "cell_type": "code",
   "execution_count": 6,
   "metadata": {},
   "outputs": [
    {
     "name": "stdout",
     "output_type": "stream",
     "text": [
      "The slowest run took 68.09 times longer than the fastest. This could mean that an intermediate result is being cached.\n",
      "98.6 µs ± 133 µs per loop (mean ± std. dev. of 3 runs, 100 loops each)\n",
      "147 µs ± 36 µs per loop (mean ± std. dev. of 3 runs, 100 loops each)\n",
      "36.2 µs ± 170 ns per loop (mean ± std. dev. of 3 runs, 100 loops each)\n",
      "38.7 µs ± 1.34 µs per loop (mean ± std. dev. of 3 runs, 100 loops each)\n",
      "The slowest run took 5.14 times longer than the fastest. This could mean that an intermediate result is being cached.\n",
      "2.33 µs ± 1.91 µs per loop (mean ± std. dev. of 3 runs, 100 loops each)\n",
      "1.14 ms ± 277 µs per loop (mean ± std. dev. of 3 runs, 100 loops each)\n",
      "220 µs ± 5.08 µs per loop (mean ± std. dev. of 3 runs, 100 loops each)\n",
      "206 µs ± 2.24 µs per loop (mean ± std. dev. of 3 runs, 100 loops each)\n",
      "2.29 µs ± 1.26 µs per loop (mean ± std. dev. of 3 runs, 100 loops each)\n",
      "2.89 ms ± 37.6 µs per loop (mean ± std. dev. of 3 runs, 100 loops each)\n",
      "713 µs ± 94 µs per loop (mean ± std. dev. of 3 runs, 100 loops each)\n",
      "667 µs ± 59.5 µs per loop (mean ± std. dev. of 3 runs, 100 loops each)\n",
      "2.21 µs ± 545 ns per loop (mean ± std. dev. of 3 runs, 100 loops each)\n",
      "6.68 ms ± 65.8 µs per loop (mean ± std. dev. of 3 runs, 100 loops each)\n",
      "1.53 ms ± 102 µs per loop (mean ± std. dev. of 3 runs, 100 loops each)\n",
      "1.37 ms ± 97.4 µs per loop (mean ± std. dev. of 3 runs, 100 loops each)\n",
      "2.84 µs ± 545 ns per loop (mean ± std. dev. of 3 runs, 100 loops each)\n",
      "12.9 ms ± 66.8 µs per loop (mean ± std. dev. of 3 runs, 100 loops each)\n",
      "2.83 ms ± 90.5 µs per loop (mean ± std. dev. of 3 runs, 100 loops each)\n",
      "2.43 ms ± 88.2 µs per loop (mean ± std. dev. of 3 runs, 100 loops each)\n",
      "3.47 µs ± 545 ns per loop (mean ± std. dev. of 3 runs, 100 loops each)\n",
      "25.4 ms ± 1.7 ms per loop (mean ± std. dev. of 3 runs, 100 loops each)\n",
      "4.87 ms ± 34.9 µs per loop (mean ± std. dev. of 3 runs, 100 loops each)\n",
      "4.31 ms ± 341 µs per loop (mean ± std. dev. of 3 runs, 100 loops each)\n",
      "10.2 µs ± 422 ns per loop (mean ± std. dev. of 3 runs, 100 loops each)\n",
      "40.3 ms ± 3.77 ms per loop (mean ± std. dev. of 3 runs, 100 loops each)\n",
      "9.99 ms ± 1.88 ms per loop (mean ± std. dev. of 3 runs, 100 loops each)\n",
      "6.12 ms ± 29.8 µs per loop (mean ± std. dev. of 3 runs, 100 loops each)\n",
      "5.92 µs ± 1.42 µs per loop (mean ± std. dev. of 3 runs, 100 loops each)\n",
      "54.9 ms ± 3.6 ms per loop (mean ± std. dev. of 3 runs, 100 loops each)\n",
      "10.9 ms ± 34.6 µs per loop (mean ± std. dev. of 3 runs, 100 loops each)\n",
      "8.96 ms ± 34.9 µs per loop (mean ± std. dev. of 3 runs, 100 loops each)\n",
      "7.78 µs ± 1.48 µs per loop (mean ± std. dev. of 3 runs, 100 loops each)\n",
      "74 ms ± 108 µs per loop (mean ± std. dev. of 3 runs, 100 loops each)\n",
      "15.4 ms ± 55.5 µs per loop (mean ± std. dev. of 3 runs, 100 loops each)\n",
      "12.5 ms ± 173 µs per loop (mean ± std. dev. of 3 runs, 100 loops each)\n",
      "8.4 µs ± 809 ns per loop (mean ± std. dev. of 3 runs, 100 loops each)\n",
      "101 ms ± 324 µs per loop (mean ± std. dev. of 3 runs, 100 loops each)\n",
      "20.9 ms ± 19.4 µs per loop (mean ± std. dev. of 3 runs, 100 loops each)\n",
      "17.1 ms ± 14.4 µs per loop (mean ± std. dev. of 3 runs, 100 loops each)\n"
     ]
    }
   ],
   "source": [
    "results = {n: tuple(map(lambda t: np.average(t.timings), test(n))) for n in range(5, 51, 5)}"
   ]
  },
  {
   "cell_type": "code",
   "execution_count": 7,
   "metadata": {},
   "outputs": [],
   "source": [
    "headers = ['n','List','ListComprehension','Matrix','NumPy']\n",
    "\n",
    "with open('results.csv', 'w') as file:\n",
    "    file.write(','.join(headers)+'\\n')\n",
    "    for n,res in results.items():\n",
    "        file.write('{},{},{},{},{}\\n'.format(n, *res))"
   ]
  }
 ],
 "metadata": {
  "kernelspec": {
   "display_name": "Python 3",
   "language": "python",
   "name": "python3"
  },
  "language_info": {
   "codemirror_mode": {
    "name": "ipython",
    "version": 3
   },
   "file_extension": ".py",
   "mimetype": "text/x-python",
   "name": "python",
   "nbconvert_exporter": "python",
   "pygments_lexer": "ipython3",
   "version": "3.6.5"
  }
 },
 "nbformat": 4,
 "nbformat_minor": 2
}
