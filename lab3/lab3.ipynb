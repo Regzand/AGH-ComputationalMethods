{
 "cells": [
  {
   "cell_type": "code",
   "execution_count": 1,
   "metadata": {},
   "outputs": [],
   "source": [
    "import numpy as np"
   ]
  },
  {
   "cell_type": "code",
   "execution_count": 2,
   "metadata": {},
   "outputs": [],
   "source": [
    "# is matrix singular <=> detA == 0\n",
    "def is_singular(A):\n",
    "    return np.isclose(0, np.linalg.det(A))"
   ]
  },
  {
   "cell_type": "code",
   "execution_count": 3,
   "metadata": {},
   "outputs": [],
   "source": [
    "# compares two vectors of floating numbers with some epsilon\n",
    "def compare(A, B):\n",
    "    return np.all(np.isclose(A, B))"
   ]
  },
  {
   "cell_type": "code",
   "execution_count": 4,
   "metadata": {},
   "outputs": [],
   "source": [
    "# creates extended matrix in format [A|B]\n",
    "def extended_matrix(A,B):\n",
    "    return np.append(A, B, axis=1)"
   ]
  },
  {
   "cell_type": "code",
   "execution_count": 5,
   "metadata": {},
   "outputs": [],
   "source": [
    "# implementation of basic gaussian elimination\n",
    "def gauss(A, B):\n",
    "    \n",
    "    # check for singularity\n",
    "    if is_singular(A):\n",
    "        raise ValueException(\"Cannot solve equation for singular matrix\")\n",
    "    \n",
    "    # create extended matrix\n",
    "    U = extended_matrix(A, B)\n",
    "        \n",
    "    # assuming that matrix A is n by n\n",
    "    n = U.shape[0]\n",
    "    \n",
    "    # trianguralize matrix\n",
    "    for i in range(n):\n",
    "        for j in range(i + 1, n):\n",
    "            factor = U[j,i] / U[i,i]\n",
    "            \n",
    "            for k in range(n + 1):\n",
    "                U[j,k] -= U[i,k] * factor\n",
    "    \n",
    "    # diagonalize matrix\n",
    "    for i in range(n - 1, -1, -1):\n",
    "        for j in range(i - 1, -1, -1):\n",
    "            factor = U[j,i] / U[i,i]\n",
    "            \n",
    "            for k in range(n + 1):\n",
    "                U[j,k] -= U[i,k] * factor\n",
    "    \n",
    "    # divide to acquire ones at diagonal\n",
    "    for i in range(n):\n",
    "        U[i,n] /= U[i,i]\n",
    "        U[i,i] /= U[i,i]\n",
    "    \n",
    "    # return last column as matrix X\n",
    "    return U[:,n:n+1]"
   ]
  },
  {
   "cell_type": "code",
   "execution_count": 6,
   "metadata": {},
   "outputs": [],
   "source": [
    "# gaussian elimination with added scaling and pivoting\n",
    "def improved_gauss(A, B):\n",
    "    \n",
    "    # check for singularity\n",
    "    if is_singular(A):\n",
    "        raise ValueException(\"Cannot solve equation for singular matrix\")\n",
    "        \n",
    "    # create extended matrix\n",
    "    U = extended_matrix(A, B)\n",
    "        \n",
    "    # assuming that matrix A is n by n\n",
    "    n = U.shape[0]\n",
    "    \n",
    "    # scale matrix\n",
    "    factor = np.max(np.absolute(A), axis = 1)\n",
    "    for i in range(n):\n",
    "        for k in range(n+1):\n",
    "            U[i,k] /= factor[i]\n",
    "        \n",
    "    # trianguralize matrix\n",
    "    for i in range(n):\n",
    "        \n",
    "        # swap this row with row that has the biggest value in column i\n",
    "        row = i\n",
    "        for j in range(i+1, n):\n",
    "            if abs(U[j,i]) > abs(U[row,i]):\n",
    "                row = j\n",
    "        U[[i,row]] = U[[row, i]]\n",
    "        \n",
    "        # same as in normal gaussian\n",
    "        for j in range(i + 1, n):\n",
    "            factor = U[j,i] / U[i,i]\n",
    "            \n",
    "            for k in range(n + 1):\n",
    "                U[j,k] -= U[i,k] * factor\n",
    "    \n",
    "    # diagonalize matrix\n",
    "    for i in range(n - 1, -1, -1):\n",
    "        for j in range(i - 1, -1, -1):\n",
    "            factor = U[j,i] / U[i,i]\n",
    "            \n",
    "            for k in range(n + 1):\n",
    "                U[j,k] -= U[i,k] * factor\n",
    "    \n",
    "    # divide to acquire ones at diagonal\n",
    "    for i in range(n):\n",
    "        U[i,n] /= U[i,i]\n",
    "        U[i,i] /= U[i,i]\n",
    "    \n",
    "    # return last column as matrix X\n",
    "    return U[:,n:n+1]"
   ]
  },
  {
   "cell_type": "markdown",
   "metadata": {},
   "source": [
    "---"
   ]
  },
  {
   "cell_type": "code",
   "execution_count": 7,
   "metadata": {},
   "outputs": [],
   "source": [
    "A = np.random.randn(5, 5).astype(\"float32\")\n",
    "B = np.random.randn(5, 1).astype(\"float32\")"
   ]
  },
  {
   "cell_type": "code",
   "execution_count": 8,
   "metadata": {},
   "outputs": [
    {
     "name": "stdout",
     "output_type": "stream",
     "text": [
      "[[ 1.1143143  -0.05188906  0.1342445  -0.03734017  0.12945895]\n",
      " [ 1.1811538  -0.27291438  0.17410973  0.26453212 -0.07622083]\n",
      " [-0.18466479  0.06602463 -0.01491731  1.3930126  -0.46863094]\n",
      " [ 1.1834173  -2.3215616   0.52494603  0.6890474  -0.02881019]\n",
      " [ 0.37875268  0.39812866  0.95619136 -0.74132305  0.77547884]]\n"
     ]
    }
   ],
   "source": [
    "print(A)"
   ]
  },
  {
   "cell_type": "code",
   "execution_count": 9,
   "metadata": {},
   "outputs": [
    {
     "name": "stdout",
     "output_type": "stream",
     "text": [
      "[[ 1.2029041]\n",
      " [-0.214481 ]\n",
      " [ 0.6493484]\n",
      " [ 1.816495 ]\n",
      " [-0.6529861]]\n"
     ]
    }
   ],
   "source": [
    "print(B)"
   ]
  },
  {
   "cell_type": "code",
   "execution_count": 10,
   "metadata": {},
   "outputs": [
    {
     "data": {
      "text/plain": [
       "array([[ 0.5151897],\n",
       "       [-0.9284308],\n",
       "       [-7.9793415],\n",
       "       [ 5.2997336],\n",
       "       [14.28809  ]], dtype=float32)"
      ]
     },
     "execution_count": 10,
     "metadata": {},
     "output_type": "execute_result"
    }
   ],
   "source": [
    "np.linalg.solve(A, B)"
   ]
  },
  {
   "cell_type": "code",
   "execution_count": 11,
   "metadata": {},
   "outputs": [
    {
     "data": {
      "text/plain": [
       "array([[ 0.5151895 ],\n",
       "       [-0.92843026],\n",
       "       [-7.979339  ],\n",
       "       [ 5.2997336 ],\n",
       "       [14.28809   ]], dtype=float32)"
      ]
     },
     "execution_count": 11,
     "metadata": {},
     "output_type": "execute_result"
    }
   ],
   "source": [
    "gauss(A, B)"
   ]
  },
  {
   "cell_type": "code",
   "execution_count": 12,
   "metadata": {},
   "outputs": [
    {
     "data": {
      "text/plain": [
       "True"
      ]
     },
     "execution_count": 12,
     "metadata": {},
     "output_type": "execute_result"
    }
   ],
   "source": [
    "compare(np.linalg.solve(A, B), gauss(A, B))"
   ]
  },
  {
   "cell_type": "markdown",
   "metadata": {},
   "source": [
    "---"
   ]
  },
  {
   "cell_type": "code",
   "execution_count": 13,
   "metadata": {},
   "outputs": [],
   "source": [
    "A = np.array([[-0.004, -0.0001, 10], [9, 0.0004, -4], [11, -2.5, 0.005]]).astype(\"float32\")\n",
    "B = np.array([[8], [8.001], [2.5]]).astype(\"float32\")"
   ]
  },
  {
   "cell_type": "code",
   "execution_count": 14,
   "metadata": {
    "scrolled": false
   },
   "outputs": [
    {
     "name": "stdout",
     "output_type": "stream",
     "text": [
      "[[-4.0e-03 -1.0e-04  1.0e+01]\n",
      " [ 9.0e+00  4.0e-04 -4.0e+00]\n",
      " [ 1.1e+01 -2.5e+00  5.0e-03]]\n"
     ]
    }
   ],
   "source": [
    "print(A)"
   ]
  },
  {
   "cell_type": "code",
   "execution_count": 15,
   "metadata": {},
   "outputs": [
    {
     "name": "stdout",
     "output_type": "stream",
     "text": [
      "[[8.   ]\n",
      " [8.001]\n",
      " [2.5  ]]\n"
     ]
    }
   ],
   "source": [
    "print(B)"
   ]
  },
  {
   "cell_type": "code",
   "execution_count": 16,
   "metadata": {
    "scrolled": false
   },
   "outputs": [
    {
     "data": {
      "text/plain": [
       "array([[1.2445978],\n",
       "       [4.4778314],\n",
       "       [0.8005426]], dtype=float32)"
      ]
     },
     "execution_count": 16,
     "metadata": {},
     "output_type": "execute_result"
    }
   ],
   "source": [
    "np.linalg.solve(A, B)"
   ]
  },
  {
   "cell_type": "code",
   "execution_count": 17,
   "metadata": {},
   "outputs": [
    {
     "data": {
      "text/plain": [
       "array([[1.2445978],\n",
       "       [4.477831 ],\n",
       "       [0.8005427]], dtype=float32)"
      ]
     },
     "execution_count": 17,
     "metadata": {},
     "output_type": "execute_result"
    }
   ],
   "source": [
    "improved_gauss(A, B)"
   ]
  },
  {
   "cell_type": "code",
   "execution_count": 18,
   "metadata": {},
   "outputs": [
    {
     "data": {
      "text/plain": [
       "array([[1.2448579 ],\n",
       "       [4.469752  ],\n",
       "       [0.80054265]], dtype=float32)"
      ]
     },
     "execution_count": 18,
     "metadata": {},
     "output_type": "execute_result"
    }
   ],
   "source": [
    "gauss(A, B)"
   ]
  },
  {
   "cell_type": "code",
   "execution_count": 19,
   "metadata": {
    "scrolled": true
   },
   "outputs": [
    {
     "data": {
      "text/plain": [
       "True"
      ]
     },
     "execution_count": 19,
     "metadata": {},
     "output_type": "execute_result"
    }
   ],
   "source": [
    "compare(np.linalg.solve(A, B), improved_gauss(A,B))"
   ]
  },
  {
   "cell_type": "code",
   "execution_count": 20,
   "metadata": {
    "scrolled": true
   },
   "outputs": [
    {
     "data": {
      "text/plain": [
       "False"
      ]
     },
     "execution_count": 20,
     "metadata": {},
     "output_type": "execute_result"
    }
   ],
   "source": [
    "compare(np.linalg.solve(A, B), gauss(A,B))"
   ]
  },
  {
   "cell_type": "markdown",
   "metadata": {},
   "source": [
    "---"
   ]
  },
  {
   "cell_type": "code",
   "execution_count": 21,
   "metadata": {},
   "outputs": [],
   "source": [
    "def test(n):\n",
    "    A = np.random.rand(n,n)\n",
    "    B = np.random.rand(n,1)\n",
    "    \n",
    "    test_np       = %timeit -o -r 3 -n 1 np.linalg.solve(A, B)\n",
    "    test_gauss    = %timeit -o -r 3 -n 1 gauss(A, B)\n",
    "    test_improved = %timeit -o -r 3 -n 1 improved_gauss(A, B)\n",
    "    \n",
    "    return test_np, test_gauss, test_improved"
   ]
  },
  {
   "cell_type": "code",
   "execution_count": 22,
   "metadata": {},
   "outputs": [
    {
     "name": "stdout",
     "output_type": "stream",
     "text": [
      "The slowest run took 4.82 times longer than the fastest. This could mean that an intermediate result is being cached.\n",
      "40.6 µs ± 29.3 µs per loop (mean ± std. dev. of 3 runs, 1 loop each)\n",
      "158 µs ± 64.5 µs per loop (mean ± std. dev. of 3 runs, 1 loop each)\n",
      "998 µs ± 671 µs per loop (mean ± std. dev. of 3 runs, 1 loop each)\n",
      "The slowest run took 370.83 times longer than the fastest. This could mean that an intermediate result is being cached.\n",
      "8.84 ms ± 12.3 ms per loop (mean ± std. dev. of 3 runs, 1 loop each)\n",
      "2.51 ms ± 396 µs per loop (mean ± std. dev. of 3 runs, 1 loop each)\n",
      "3.86 ms ± 1.55 ms per loop (mean ± std. dev. of 3 runs, 1 loop each)\n",
      "The slowest run took 6.40 times longer than the fastest. This could mean that an intermediate result is being cached.\n",
      "281 µs ± 178 µs per loop (mean ± std. dev. of 3 runs, 1 loop each)\n",
      "12.2 ms ± 2.86 ms per loop (mean ± std. dev. of 3 runs, 1 loop each)\n",
      "11.7 ms ± 1.75 ms per loop (mean ± std. dev. of 3 runs, 1 loop each)\n",
      "609 µs ± 301 µs per loop (mean ± std. dev. of 3 runs, 1 loop each)\n",
      "40.3 ms ± 8.2 ms per loop (mean ± std. dev. of 3 runs, 1 loop each)\n",
      "34 ms ± 5 ms per loop (mean ± std. dev. of 3 runs, 1 loop each)\n",
      "68.1 µs ± 35 µs per loop (mean ± std. dev. of 3 runs, 1 loop each)\n",
      "29 ms ± 663 µs per loop (mean ± std. dev. of 3 runs, 1 loop each)\n",
      "32.1 ms ± 27 µs per loop (mean ± std. dev. of 3 runs, 1 loop each)\n",
      "93.1 µs ± 52.5 µs per loop (mean ± std. dev. of 3 runs, 1 loop each)\n",
      "70.1 ms ± 11.1 ms per loop (mean ± std. dev. of 3 runs, 1 loop each)\n",
      "58.1 ms ± 1.18 ms per loop (mean ± std. dev. of 3 runs, 1 loop each)\n",
      "79.6 µs ± 35 µs per loop (mean ± std. dev. of 3 runs, 1 loop each)\n",
      "113 ms ± 10.5 ms per loop (mean ± std. dev. of 3 runs, 1 loop each)\n",
      "162 ms ± 69.8 ms per loop (mean ± std. dev. of 3 runs, 1 loop each)\n",
      "The slowest run took 4.11 times longer than the fastest. This could mean that an intermediate result is being cached.\n",
      "300 µs ± 210 µs per loop (mean ± std. dev. of 3 runs, 1 loop each)\n",
      "257 ms ± 73.7 ms per loop (mean ± std. dev. of 3 runs, 1 loop each)\n",
      "274 ms ± 57.2 ms per loop (mean ± std. dev. of 3 runs, 1 loop each)\n",
      "319 µs ± 207 µs per loop (mean ± std. dev. of 3 runs, 1 loop each)\n",
      "413 ms ± 3.95 ms per loop (mean ± std. dev. of 3 runs, 1 loop each)\n",
      "341 ms ± 35.4 ms per loop (mean ± std. dev. of 3 runs, 1 loop each)\n",
      "The slowest run took 30.95 times longer than the fastest. This could mean that an intermediate result is being cached.\n",
      "2.81 ms ± 1.89 ms per loop (mean ± std. dev. of 3 runs, 1 loop each)\n",
      "381 ms ± 78 ms per loop (mean ± std. dev. of 3 runs, 1 loop each)\n",
      "542 ms ± 158 ms per loop (mean ± std. dev. of 3 runs, 1 loop each)\n",
      "The slowest run took 11.01 times longer than the fastest. This could mean that an intermediate result is being cached.\n",
      "3.12 ms ± 1.92 ms per loop (mean ± std. dev. of 3 runs, 1 loop each)\n",
      "604 ms ± 131 ms per loop (mean ± std. dev. of 3 runs, 1 loop each)\n",
      "537 ms ± 42.1 ms per loop (mean ± std. dev. of 3 runs, 1 loop each)\n",
      "The slowest run took 12.62 times longer than the fastest. This could mean that an intermediate result is being cached.\n",
      "797 µs ± 893 µs per loop (mean ± std. dev. of 3 runs, 1 loop each)\n",
      "723 ms ± 41 ms per loop (mean ± std. dev. of 3 runs, 1 loop each)\n",
      "781 ms ± 77.7 ms per loop (mean ± std. dev. of 3 runs, 1 loop each)\n",
      "242 µs ± 57.6 µs per loop (mean ± std. dev. of 3 runs, 1 loop each)\n",
      "1.3 s ± 149 ms per loop (mean ± std. dev. of 3 runs, 1 loop each)\n",
      "1.19 s ± 388 ms per loop (mean ± std. dev. of 3 runs, 1 loop each)\n",
      "The slowest run took 12.39 times longer than the fastest. This could mean that an intermediate result is being cached.\n",
      "1.8 ms ± 1.29 ms per loop (mean ± std. dev. of 3 runs, 1 loop each)\n",
      "1.02 s ± 76.7 ms per loop (mean ± std. dev. of 3 runs, 1 loop each)\n",
      "1.38 s ± 69 ms per loop (mean ± std. dev. of 3 runs, 1 loop each)\n",
      "312 µs ± 67.8 µs per loop (mean ± std. dev. of 3 runs, 1 loop each)\n",
      "1.28 s ± 52.1 ms per loop (mean ± std. dev. of 3 runs, 1 loop each)\n",
      "1.23 s ± 50.3 ms per loop (mean ± std. dev. of 3 runs, 1 loop each)\n",
      "442 µs ± 62.8 µs per loop (mean ± std. dev. of 3 runs, 1 loop each)\n",
      "1.6 s ± 108 ms per loop (mean ± std. dev. of 3 runs, 1 loop each)\n",
      "1.65 s ± 53.7 ms per loop (mean ± std. dev. of 3 runs, 1 loop each)\n",
      "The slowest run took 7.89 times longer than the fastest. This could mean that an intermediate result is being cached.\n",
      "1.26 ms ± 762 µs per loop (mean ± std. dev. of 3 runs, 1 loop each)\n",
      "1.87 s ± 64.3 ms per loop (mean ± std. dev. of 3 runs, 1 loop each)\n",
      "1.85 s ± 72.8 ms per loop (mean ± std. dev. of 3 runs, 1 loop each)\n",
      "637 µs ± 248 µs per loop (mean ± std. dev. of 3 runs, 1 loop each)\n",
      "2.31 s ± 300 ms per loop (mean ± std. dev. of 3 runs, 1 loop each)\n",
      "2.15 s ± 20.9 ms per loop (mean ± std. dev. of 3 runs, 1 loop each)\n",
      "5.09 ms ± 1.4 ms per loop (mean ± std. dev. of 3 runs, 1 loop each)\n",
      "2.45 s ± 37.9 ms per loop (mean ± std. dev. of 3 runs, 1 loop each)\n",
      "2.71 s ± 159 ms per loop (mean ± std. dev. of 3 runs, 1 loop each)\n",
      "466 µs ± 135 µs per loop (mean ± std. dev. of 3 runs, 1 loop each)\n",
      "3.52 s ± 188 ms per loop (mean ± std. dev. of 3 runs, 1 loop each)\n",
      "3.07 s ± 102 ms per loop (mean ± std. dev. of 3 runs, 1 loop each)\n",
      "The slowest run took 7.47 times longer than the fastest. This could mean that an intermediate result is being cached.\n",
      "2.53 ms ± 1.89 ms per loop (mean ± std. dev. of 3 runs, 1 loop each)\n",
      "4.26 s ± 438 ms per loop (mean ± std. dev. of 3 runs, 1 loop each)\n",
      "4.02 s ± 232 ms per loop (mean ± std. dev. of 3 runs, 1 loop each)\n",
      "The slowest run took 6.20 times longer than the fastest. This could mean that an intermediate result is being cached.\n",
      "2.21 ms ± 1.84 ms per loop (mean ± std. dev. of 3 runs, 1 loop each)\n",
      "4.18 s ± 343 ms per loop (mean ± std. dev. of 3 runs, 1 loop each)\n",
      "4.37 s ± 66 ms per loop (mean ± std. dev. of 3 runs, 1 loop each)\n",
      "1.55 ms ± 641 µs per loop (mean ± std. dev. of 3 runs, 1 loop each)\n",
      "5.34 s ± 297 ms per loop (mean ± std. dev. of 3 runs, 1 loop each)\n",
      "5.78 s ± 307 ms per loop (mean ± std. dev. of 3 runs, 1 loop each)\n",
      "5.6 ms ± 2.29 ms per loop (mean ± std. dev. of 3 runs, 1 loop each)\n",
      "5.07 s ± 48.2 ms per loop (mean ± std. dev. of 3 runs, 1 loop each)\n",
      "5.26 s ± 90.1 ms per loop (mean ± std. dev. of 3 runs, 1 loop each)\n",
      "1.05 ms ± 339 µs per loop (mean ± std. dev. of 3 runs, 1 loop each)\n",
      "7.51 s ± 1.17 s per loop (mean ± std. dev. of 3 runs, 1 loop each)\n",
      "7.5 s ± 896 ms per loop (mean ± std. dev. of 3 runs, 1 loop each)\n",
      "872 µs ± 135 µs per loop (mean ± std. dev. of 3 runs, 1 loop each)\n",
      "7.51 s ± 698 ms per loop (mean ± std. dev. of 3 runs, 1 loop each)\n",
      "7.41 s ± 772 ms per loop (mean ± std. dev. of 3 runs, 1 loop each)\n",
      "856 µs ± 304 µs per loop (mean ± std. dev. of 3 runs, 1 loop each)\n",
      "8.12 s ± 832 ms per loop (mean ± std. dev. of 3 runs, 1 loop each)\n",
      "8.99 s ± 1.07 s per loop (mean ± std. dev. of 3 runs, 1 loop each)\n",
      "The slowest run took 7.99 times longer than the fastest. This could mean that an intermediate result is being cached.\n",
      "3.38 ms ± 2.05 ms per loop (mean ± std. dev. of 3 runs, 1 loop each)\n",
      "8.51 s ± 494 ms per loop (mean ± std. dev. of 3 runs, 1 loop each)\n",
      "9.37 s ± 352 ms per loop (mean ± std. dev. of 3 runs, 1 loop each)\n",
      "1.49 ms ± 896 µs per loop (mean ± std. dev. of 3 runs, 1 loop each)\n",
      "10.2 s ± 359 ms per loop (mean ± std. dev. of 3 runs, 1 loop each)\n",
      "10.7 s ± 263 ms per loop (mean ± std. dev. of 3 runs, 1 loop each)\n",
      "10.1 ms ± 2.71 ms per loop (mean ± std. dev. of 3 runs, 1 loop each)\n",
      "11.6 s ± 1.21 s per loop (mean ± std. dev. of 3 runs, 1 loop each)\n",
      "10.6 s ± 41.3 ms per loop (mean ± std. dev. of 3 runs, 1 loop each)\n"
     ]
    }
   ],
   "source": [
    "results = {n: tuple(map(lambda t: np.average(t.timings), test(n))) for n in range(1, 301, 10)}"
   ]
  },
  {
   "cell_type": "code",
   "execution_count": 23,
   "metadata": {},
   "outputs": [],
   "source": [
    "headers = ['n','NumPy','Gaussian','Improved Gaussian']\n",
    "\n",
    "with open('results.csv', 'w') as file:\n",
    "    file.write(','.join(headers)+'\\n')\n",
    "    for n,res in results.items():\n",
    "        file.write('{},{},{},{}\\n'.format(n, *res))"
   ]
  }
 ],
 "metadata": {
  "kernelspec": {
   "display_name": "Python 3",
   "language": "python",
   "name": "python3"
  },
  "language_info": {
   "codemirror_mode": {
    "name": "ipython",
    "version": 3
   },
   "file_extension": ".py",
   "mimetype": "text/x-python",
   "name": "python",
   "nbconvert_exporter": "python",
   "pygments_lexer": "ipython3",
   "version": "3.6.5"
  }
 },
 "nbformat": 4,
 "nbformat_minor": 2
}
