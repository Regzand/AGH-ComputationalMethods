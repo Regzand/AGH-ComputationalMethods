{
 "cells": [
  {
   "cell_type": "code",
   "execution_count": 1,
   "metadata": {},
   "outputs": [],
   "source": [
    "import numpy as np"
   ]
  },
  {
   "cell_type": "markdown",
   "metadata": {},
   "source": [
    "$$ AX=B $$"
   ]
  },
  {
   "cell_type": "markdown",
   "metadata": {},
   "source": [
    "## Utility methods"
   ]
  },
  {
   "cell_type": "code",
   "execution_count": 2,
   "metadata": {},
   "outputs": [],
   "source": [
    "def is_diagonally_dominant(A):\n",
    "    for i in range(A.shape[0]):\n",
    "        if 2 * abs(A[i,i]) < np.sum(np.abs(A[i,:])):\n",
    "            return False\n",
    "    return True"
   ]
  },
  {
   "cell_type": "code",
   "execution_count": 3,
   "metadata": {},
   "outputs": [],
   "source": [
    "def random_diagonally_dominant(n):\n",
    "    A = np.random.rand(n,n) * 2 - 1\n",
    "    for i in range(n):\n",
    "        A[i,i] = np.sum(np.abs(A[i,:]))\n",
    "    return A"
   ]
  },
  {
   "cell_type": "markdown",
   "metadata": {},
   "source": [
    "## Matrix methods\n",
    "$$ A = L + D + U$$   \n",
    "<center>\n",
    "    $ D $ - diagonal \n",
    "    $ L $ - lower triangle \n",
    "    $ U $ - upper triangle\n",
    "</center>"
   ]
  },
  {
   "cell_type": "code",
   "execution_count": 4,
   "metadata": {},
   "outputs": [],
   "source": [
    "def matrix_L(A):\n",
    "    return np.tril(A, -1)\n",
    "\n",
    "def matrix_D(A):\n",
    "    return np.diag(np.diag(A))\n",
    "\n",
    "def matrix_U(A):\n",
    "    return np.triu(A, 1)"
   ]
  },
  {
   "cell_type": "markdown",
   "metadata": {},
   "source": [
    "$$ R = L+U $$"
   ]
  },
  {
   "cell_type": "code",
   "execution_count": 5,
   "metadata": {},
   "outputs": [],
   "source": [
    "def matrix_R(A):\n",
    "    return matrix_L(A) + matrix_U(A)"
   ]
  },
  {
   "cell_type": "markdown",
   "metadata": {},
   "source": [
    "$$ S = (L + D)^{-1}$$"
   ]
  },
  {
   "cell_type": "code",
   "execution_count": 6,
   "metadata": {},
   "outputs": [],
   "source": [
    "def matrix_S(A):\n",
    "    return np.linalg.inv(matrix_L(A) + matrix_D(A))"
   ]
  },
  {
   "cell_type": "markdown",
   "metadata": {},
   "source": [
    "$$ N=D^{-1} $$"
   ]
  },
  {
   "cell_type": "code",
   "execution_count": 7,
   "metadata": {},
   "outputs": [],
   "source": [
    "def matrix_N(A):\n",
    "    return np.linalg.inv(np.diag(np.diag(A)))"
   ]
  },
  {
   "cell_type": "markdown",
   "metadata": {},
   "source": [
    "$$ C_1 = D^{-1}B = NB $$"
   ]
  },
  {
   "cell_type": "code",
   "execution_count": 8,
   "metadata": {},
   "outputs": [],
   "source": [
    "def matrix_C1(A, B):\n",
    "    return np.dot(matrix_N(A), B)"
   ]
  },
  {
   "cell_type": "markdown",
   "metadata": {},
   "source": [
    "$$ T_1 = -D^{-1}(L + U) = -NR $$"
   ]
  },
  {
   "cell_type": "code",
   "execution_count": 9,
   "metadata": {},
   "outputs": [],
   "source": [
    "def matrix_T1(A):\n",
    "    return -1 * np.dot(matrix_N(A), matrix_R(A))"
   ]
  },
  {
   "cell_type": "markdown",
   "metadata": {},
   "source": [
    "$$ C_2 = (L+D)^{-1}B = SB $$"
   ]
  },
  {
   "cell_type": "code",
   "execution_count": 10,
   "metadata": {},
   "outputs": [],
   "source": [
    "def matrix_C2(A, B):\n",
    "    return np.dot(matrix_S(A), B)"
   ]
  },
  {
   "cell_type": "markdown",
   "metadata": {},
   "source": [
    "$$ T_2 = -(L+D)^{-1}U = -SU $$"
   ]
  },
  {
   "cell_type": "code",
   "execution_count": 11,
   "metadata": {},
   "outputs": [],
   "source": [
    "def matrix_T2(A):\n",
    "    return -1 * np.dot(matrix_S(A), matrix_U(A))"
   ]
  },
  {
   "cell_type": "markdown",
   "metadata": {},
   "source": [
    "## Jacobi method\n",
    "$$ X^{(k+1)} = T_1X^{(k)}+C_1 $$"
   ]
  },
  {
   "cell_type": "code",
   "execution_count": 12,
   "metadata": {},
   "outputs": [],
   "source": [
    "def jacobi_compute(T1, C1, X):\n",
    "    return np.dot(T1, X) + C1"
   ]
  },
  {
   "cell_type": "code",
   "execution_count": 13,
   "metadata": {},
   "outputs": [],
   "source": [
    "def jacobi(A, B, X, iterations):\n",
    "    if not is_diagonally_dominant(A):\n",
    "        raise ValueError(\"Given matrix is not diagonally dominant\")\n",
    "    T1 = matrix_T1(A)\n",
    "    C1 = matrix_C1(A, B)\n",
    "    for i in range(iterations):\n",
    "        X = jacobi_compute(T1, C1, X)\n",
    "    return X"
   ]
  },
  {
   "cell_type": "markdown",
   "metadata": {},
   "source": [
    "## Gauss-Seidel method\n",
    "$$ X^{(k+1)} = T_2X^{(k)}+C_2 $$"
   ]
  },
  {
   "cell_type": "code",
   "execution_count": 14,
   "metadata": {},
   "outputs": [],
   "source": [
    "def gauss_seidel_compute(T2, C2, X):\n",
    "    return np.dot(T2, X) + C2"
   ]
  },
  {
   "cell_type": "code",
   "execution_count": 15,
   "metadata": {},
   "outputs": [],
   "source": [
    "def gauss_seidel(A, B, X, iterations):\n",
    "    if not is_diagonally_dominant(A):\n",
    "        raise ValueError(\"Given matrix is not diagonally dominant\")\n",
    "    T2 = matrix_T2(A)\n",
    "    C2 = matrix_C2(A, B)\n",
    "    for i in range(iterations):\n",
    "        X = gauss_seidel_compute(T2, C2, X)\n",
    "    return X"
   ]
  },
  {
   "cell_type": "markdown",
   "metadata": {},
   "source": [
    "---"
   ]
  },
  {
   "cell_type": "markdown",
   "metadata": {},
   "source": [
    "#### Test 1"
   ]
  },
  {
   "cell_type": "code",
   "execution_count": 16,
   "metadata": {},
   "outputs": [],
   "source": [
    "A = np.array([[ 2. , 1.],\n",
    "              [ 5. , 7.]])\n",
    "\n",
    "B = np.array([[11.],[13.]])\n",
    "X = np.array([[1.],[1.]])"
   ]
  },
  {
   "cell_type": "code",
   "execution_count": 17,
   "metadata": {},
   "outputs": [
    {
     "data": {
      "text/plain": [
       "array([[ 7.11110202],\n",
       "       [-3.22220342]])"
      ]
     },
     "execution_count": 17,
     "metadata": {},
     "output_type": "execute_result"
    }
   ],
   "source": [
    "jacobi(A, B, X, 25)"
   ]
  },
  {
   "cell_type": "code",
   "execution_count": 18,
   "metadata": {},
   "outputs": [
    {
     "data": {
      "text/plain": [
       "array([[ 7.11111111],\n",
       "       [-3.22222222]])"
      ]
     },
     "execution_count": 18,
     "metadata": {},
     "output_type": "execute_result"
    }
   ],
   "source": [
    "gauss_seidel(A, B, X, 25)"
   ]
  },
  {
   "cell_type": "code",
   "execution_count": 19,
   "metadata": {},
   "outputs": [
    {
     "data": {
      "text/plain": [
       "array([[ 7.11111111],\n",
       "       [-3.22222222]])"
      ]
     },
     "execution_count": 19,
     "metadata": {},
     "output_type": "execute_result"
    }
   ],
   "source": [
    "np.linalg.solve(A, B)"
   ]
  },
  {
   "cell_type": "markdown",
   "metadata": {},
   "source": [
    "#### Test 2"
   ]
  },
  {
   "cell_type": "code",
   "execution_count": 20,
   "metadata": {},
   "outputs": [],
   "source": [
    "A = np.array([[10., -1., 2., 0.],\n",
    "              [-1., 11., -1., 3.],\n",
    "              [2., -1., 10., -1.],\n",
    "              [0., 3., -1., 8.]])\n",
    "\n",
    "B = np.array([[6.], [25.], [-11.], [15.]])\n",
    "X = np.array([[0.],[0.],[0.],[0,]])"
   ]
  },
  {
   "cell_type": "code",
   "execution_count": 21,
   "metadata": {},
   "outputs": [
    {
     "data": {
      "text/plain": [
       "array([[ 1.],\n",
       "       [ 2.],\n",
       "       [-1.],\n",
       "       [ 1.]])"
      ]
     },
     "execution_count": 21,
     "metadata": {},
     "output_type": "execute_result"
    }
   ],
   "source": [
    "jacobi(A, B, X, 25)"
   ]
  },
  {
   "cell_type": "code",
   "execution_count": 22,
   "metadata": {},
   "outputs": [
    {
     "data": {
      "text/plain": [
       "array([[ 1.],\n",
       "       [ 2.],\n",
       "       [-1.],\n",
       "       [ 1.]])"
      ]
     },
     "execution_count": 22,
     "metadata": {},
     "output_type": "execute_result"
    }
   ],
   "source": [
    "gauss_seidel(A, B, X, 25)"
   ]
  },
  {
   "cell_type": "code",
   "execution_count": 23,
   "metadata": {},
   "outputs": [
    {
     "data": {
      "text/plain": [
       "array([[ 1.],\n",
       "       [ 2.],\n",
       "       [-1.],\n",
       "       [ 1.]])"
      ]
     },
     "execution_count": 23,
     "metadata": {},
     "output_type": "execute_result"
    }
   ],
   "source": [
    "np.linalg.solve(A, B)"
   ]
  },
  {
   "cell_type": "markdown",
   "metadata": {},
   "source": [
    "#### Test 3"
   ]
  },
  {
   "cell_type": "code",
   "execution_count": 24,
   "metadata": {},
   "outputs": [],
   "source": [
    "A = np.array([[4., -1., -1.],\n",
    "              [-2., 6., 1.],\n",
    "              [-1., 1., 7.]])\n",
    "\n",
    "B = np.array([[3.], [9.], [-6.]])\n",
    "X = np.array([[0.],[0.],[0.]])"
   ]
  },
  {
   "cell_type": "code",
   "execution_count": 25,
   "metadata": {},
   "outputs": [
    {
     "data": {
      "text/plain": [
       "array([[ 1.],\n",
       "       [ 2.],\n",
       "       [-1.]])"
      ]
     },
     "execution_count": 25,
     "metadata": {},
     "output_type": "execute_result"
    }
   ],
   "source": [
    "jacobi(A, B, X, 25)"
   ]
  },
  {
   "cell_type": "code",
   "execution_count": 26,
   "metadata": {},
   "outputs": [
    {
     "data": {
      "text/plain": [
       "array([[ 1.],\n",
       "       [ 2.],\n",
       "       [-1.]])"
      ]
     },
     "execution_count": 26,
     "metadata": {},
     "output_type": "execute_result"
    }
   ],
   "source": [
    "gauss_seidel(A, B, X, 25)"
   ]
  },
  {
   "cell_type": "code",
   "execution_count": 27,
   "metadata": {},
   "outputs": [
    {
     "data": {
      "text/plain": [
       "array([[ 1.],\n",
       "       [ 2.],\n",
       "       [-1.]])"
      ]
     },
     "execution_count": 27,
     "metadata": {},
     "output_type": "execute_result"
    }
   ],
   "source": [
    "np.linalg.solve(A, B)"
   ]
  },
  {
   "cell_type": "markdown",
   "metadata": {},
   "source": [
    "#### Test 4 - not diagonally dominant"
   ]
  },
  {
   "cell_type": "code",
   "execution_count": 28,
   "metadata": {},
   "outputs": [],
   "source": [
    "A = np.array([[4., -1., -1.],\n",
    "              [-2., 1., 1.],\n",
    "              [-1., 1., 7.]])\n",
    "\n",
    "B = np.array([[3.], [9.], [-6.]])\n",
    "X = np.array([[0.],[0.],[0.]])"
   ]
  },
  {
   "cell_type": "code",
   "execution_count": 29,
   "metadata": {},
   "outputs": [
    {
     "data": {
      "text/plain": [
       "False"
      ]
     },
     "execution_count": 29,
     "metadata": {},
     "output_type": "execute_result"
    }
   ],
   "source": [
    "is_diagonally_dominant(A)"
   ]
  },
  {
   "cell_type": "code",
   "execution_count": 30,
   "metadata": {},
   "outputs": [
    {
     "data": {
      "text/plain": [
       "array([[ 5.9710198 ],\n",
       "       [24.56950449],\n",
       "       [-3.48213643]])"
      ]
     },
     "execution_count": 30,
     "metadata": {},
     "output_type": "execute_result"
    }
   ],
   "source": [
    "jacobi(A, B, X, 25)"
   ]
  },
  {
   "cell_type": "code",
   "execution_count": 31,
   "metadata": {},
   "outputs": [
    {
     "data": {
      "text/plain": [
       "array([[ 5.99999762],\n",
       "       [24.49999439],\n",
       "       [-3.49999954]])"
      ]
     },
     "execution_count": 31,
     "metadata": {},
     "output_type": "execute_result"
    }
   ],
   "source": [
    "gauss_seidel(A, B, X, 25)"
   ]
  },
  {
   "cell_type": "code",
   "execution_count": 32,
   "metadata": {},
   "outputs": [
    {
     "data": {
      "text/plain": [
       "array([[ 6. ],\n",
       "       [24.5],\n",
       "       [-3.5]])"
      ]
     },
     "execution_count": 32,
     "metadata": {},
     "output_type": "execute_result"
    }
   ],
   "source": [
    "np.linalg.solve(A, B)"
   ]
  },
  {
   "cell_type": "markdown",
   "metadata": {},
   "source": [
    "---"
   ]
  },
  {
   "cell_type": "code",
   "execution_count": 33,
   "metadata": {},
   "outputs": [],
   "source": [
    "def test(n):\n",
    "    A = random_diagonally_dominant(n)\n",
    "    B = np.random.rand(n,1)\n",
    "    T1 = matrix_T1(A)\n",
    "    T2 = matrix_T2(A)\n",
    "    C1 = matrix_C1(A, B)\n",
    "    C2 = matrix_C2(A, B)\n",
    "    Xj = np.zeros((n,1))\n",
    "    Xg = np.zeros((n,1))\n",
    "    X = np.linalg.solve(A, B)\n",
    "    \n",
    "    data = list()\n",
    "    \n",
    "    while (not np.allclose(Xj, X)) or (not np.allclose(Xg, X)):\n",
    "        Xj = jacobi_compute(T1, C1, Xj)\n",
    "        Xg = gauss_seidel_compute(T2, C2, Xg)\n",
    "        \n",
    "        print(str(np.sum(np.abs(X - Xj))) + \",\" + str(np.sum(np.abs(X - Xg))))"
   ]
  },
  {
   "cell_type": "code",
   "execution_count": 34,
   "metadata": {},
   "outputs": [],
   "source": [
    "%%capture --no-stderr --no-display log3\n",
    "test(3)"
   ]
  },
  {
   "cell_type": "code",
   "execution_count": 35,
   "metadata": {},
   "outputs": [],
   "source": [
    "with open('results3.csv', 'w') as f:\n",
    "    f.write(\"Jacobi,Gauss-Seidel\\n\")\n",
    "    f.write(log3.stdout)"
   ]
  },
  {
   "cell_type": "code",
   "execution_count": 36,
   "metadata": {},
   "outputs": [],
   "source": [
    "%%capture --no-stderr --no-display log5\n",
    "test(5)"
   ]
  },
  {
   "cell_type": "code",
   "execution_count": 37,
   "metadata": {},
   "outputs": [],
   "source": [
    "with open('results5.csv', 'w') as f:\n",
    "    f.write(\"Jacobi,Gauss-Seidel\\n\")\n",
    "    f.write(log5.stdout)"
   ]
  },
  {
   "cell_type": "code",
   "execution_count": 38,
   "metadata": {},
   "outputs": [],
   "source": [
    "%%capture --no-stderr --no-display log10\n",
    "test(10)"
   ]
  },
  {
   "cell_type": "code",
   "execution_count": 39,
   "metadata": {},
   "outputs": [],
   "source": [
    "with open('results10.csv', 'w') as f:\n",
    "    f.write(\"Jacobi,Gauss-Seidel\\n\")\n",
    "    f.write(log10.stdout)"
   ]
  },
  {
   "cell_type": "code",
   "execution_count": 40,
   "metadata": {},
   "outputs": [],
   "source": [
    "%%capture --no-stderr --no-display log30\n",
    "test(30)"
   ]
  },
  {
   "cell_type": "code",
   "execution_count": 41,
   "metadata": {},
   "outputs": [],
   "source": [
    "with open('results30.csv', 'w') as f:\n",
    "    f.write(\"Jacobi,Gauss-Seidel\\n\")\n",
    "    f.write(log30.stdout)"
   ]
  },
  {
   "cell_type": "code",
   "execution_count": 42,
   "metadata": {},
   "outputs": [],
   "source": [
    "%%capture --no-stderr --no-display log100\n",
    "test(100)"
   ]
  },
  {
   "cell_type": "code",
   "execution_count": 43,
   "metadata": {},
   "outputs": [],
   "source": [
    "with open('results100.csv', 'w') as f:\n",
    "    f.write(\"Jacobi,Gauss-Seidel\\n\")\n",
    "    f.write(log100.stdout)"
   ]
  },
  {
   "cell_type": "code",
   "execution_count": 44,
   "metadata": {},
   "outputs": [],
   "source": [
    "%%capture --no-stderr --no-display log1000\n",
    "test(1000)"
   ]
  },
  {
   "cell_type": "code",
   "execution_count": 45,
   "metadata": {},
   "outputs": [],
   "source": [
    "with open('results1000.csv', 'w') as f:\n",
    "    f.write(\"Jacobi,Gauss-Seidel\\n\")\n",
    "    f.write(log1000.stdout)"
   ]
  }
 ],
 "metadata": {
  "kernelspec": {
   "display_name": "Python 3",
   "language": "python",
   "name": "python3"
  },
  "language_info": {
   "codemirror_mode": {
    "name": "ipython",
    "version": 3
   },
   "file_extension": ".py",
   "mimetype": "text/x-python",
   "name": "python",
   "nbconvert_exporter": "python",
   "pygments_lexer": "ipython3",
   "version": "3.6.5"
  }
 },
 "nbformat": 4,
 "nbformat_minor": 2
}
