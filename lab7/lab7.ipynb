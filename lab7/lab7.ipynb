{
 "cells": [
  {
   "cell_type": "code",
   "execution_count": 1,
   "metadata": {},
   "outputs": [],
   "source": [
    "from math import sqrt, sin"
   ]
  },
  {
   "cell_type": "markdown",
   "metadata": {},
   "source": [
    "## Integrals: Gauss-Legendre\n",
    "---"
   ]
  },
  {
   "cell_type": "markdown",
   "metadata": {},
   "source": [
    "$$ \\int_{-1}^{-1}{f(x)dx} = \\sum_{i=1}^{N}{w_i f(t_i)} $$"
   ]
  },
  {
   "cell_type": "code",
   "execution_count": 2,
   "metadata": {},
   "outputs": [],
   "source": [
    "gauss_nodes = {\n",
    "    2: [-1./sqrt(3.), +1./sqrt(3)],\n",
    "    3: [0., -sqrt(3./5.), +sqrt(3./5.)],\n",
    "    4: [-sqrt(3./7. - 2./7. * sqrt(6./5.)), +sqrt(3./7. - 2./7. * sqrt(6./5.)), -sqrt(3./7. + 2./7. * sqrt(6./5.)), +sqrt(3./7. + 2./7. * sqrt(6./5.))],\n",
    "    5: [0., -1./3. * sqrt(5.-2.*sqrt(10./7.)), +1./3. * sqrt(5.-2.*sqrt(10./7.)), -1./3. * sqrt(5.+2.*sqrt(10./7.)), +1./3. * sqrt(5.+2.*sqrt(10./7.))]\n",
    "}\n",
    "gauss_weights = {\n",
    "    2: [1., 1.],\n",
    "    3: [8./9., 5./9., 5./9.],\n",
    "    4: [(18+sqrt(30))/36., (18+sqrt(30))/36., (18-sqrt(30))/36., (18-sqrt(30))/36.],\n",
    "    5: [128./225., (322.+13.*sqrt(70))/900., (322.+13.*sqrt(70))/900., (322.-13.*sqrt(70))/900., (322.-13.*sqrt(70))/900.]\n",
    "}"
   ]
  },
  {
   "cell_type": "code",
   "execution_count": 3,
   "metadata": {},
   "outputs": [],
   "source": [
    "def integral_gauss_legendre_base(f, n):\n",
    "    if not n in range(2, 6):\n",
    "        raise ValueError(\"This implementation of Gauss-Legendre supports only n in range [2, 5]\")\n",
    "        \n",
    "    return sum(\n",
    "        gauss_weights[n][i] * f(gauss_nodes[n][i])\n",
    "        for i in range(n)\n",
    "    )"
   ]
  },
  {
   "cell_type": "markdown",
   "metadata": {},
   "source": [
    "$$ x \\in [-1,1] $$\n",
    "$$ \\frac{x+1}{2}(b-a)+a \\in [a,b] $$"
   ]
  },
  {
   "cell_type": "code",
   "execution_count": 4,
   "metadata": {},
   "outputs": [],
   "source": [
    "def integral_gauss_legendre(f, a, b, n):\n",
    "    return integral_gauss_legendre_base(lambda x: f( (x+1.) / 2. * (b-a) + a ), n) * ((b-a)/2.)"
   ]
  },
  {
   "cell_type": "markdown",
   "metadata": {},
   "source": [
    "## Functions from previous labs\n",
    "---"
   ]
  },
  {
   "cell_type": "code",
   "execution_count": 5,
   "metadata": {},
   "outputs": [],
   "source": [
    "def integral_rectangles(f, a, b, n):\n",
    "    h = (b - a) / float(n)\n",
    "    return sum(\n",
    "        f(a + h * i) * h\n",
    "        for i in range(n)\n",
    "    )"
   ]
  },
  {
   "cell_type": "code",
   "execution_count": 6,
   "metadata": {},
   "outputs": [],
   "source": [
    "def integral_trapezoidal(f, a, b, n):\n",
    "    h = (b - a) / float(n)\n",
    "    return sum(\n",
    "        (f(a + h * i) + f(a + h * (i+1))) / 2.0 * h\n",
    "        for i in range(n)\n",
    "    )"
   ]
  },
  {
   "cell_type": "code",
   "execution_count": 7,
   "metadata": {},
   "outputs": [],
   "source": [
    "def integral_simpson(f, a, b, n):\n",
    "    if n%2 != 0:\n",
    "        #raise ValueError(\"Number of steps in simpson mathod has to be even\")\n",
    "        return \"-\"\n",
    "        \n",
    "    h = (b - a) / float(n)\n",
    "    return (h / 3.0) * (\n",
    "        f(a) +\n",
    "        4 * sum(f(a + i * h) for i in range(1, n, 2)) +\n",
    "        2 * sum(f(a + i * h) for i in range(2, n-1, 2)) +\n",
    "        f(b)\n",
    "    )"
   ]
  },
  {
   "cell_type": "markdown",
   "metadata": {},
   "source": [
    "### Testing\n",
    "---"
   ]
  },
  {
   "cell_type": "code",
   "execution_count": 8,
   "metadata": {},
   "outputs": [],
   "source": [
    "f1 = lambda x: 3 * x**3 -1\n",
    "f2 = lambda x: 2 * x**2\n",
    "f3 = lambda x: 4 * sin(x)\n",
    "\n",
    "ranges = [(-5,-1),(-2,0),(-1,1),(0,2),(1,5)]\n",
    "steps = range(2,6)"
   ]
  },
  {
   "cell_type": "code",
   "execution_count": 9,
   "metadata": {},
   "outputs": [],
   "source": [
    "def test(name, f, ranges, steps):\n",
    "    with open(f'results-{name}.csv', 'w') as out:\n",
    "        out.write(\"a,b,n,Rectangles,Trapezoidal,Simpson,Gauss-Legendre\\n\")\n",
    "        for r in ranges:\n",
    "            out.write('\\n')\n",
    "            for n in steps:\n",
    "                int_rec = integral_rectangles(f,r[0],r[1],n)\n",
    "                int_tra = integral_trapezoidal(f,r[0],r[1],n)\n",
    "                int_sim = integral_simpson(f,r[0],r[1],n)\n",
    "                int_gau = integral_gauss_legendre(f,r[0],r[1], n)\n",
    "                out.write(f'{r[0]},{r[1]},{n},{int_rec},{int_tra},{int_sim},{int_gau}\\n')"
   ]
  },
  {
   "cell_type": "code",
   "execution_count": 10,
   "metadata": {},
   "outputs": [],
   "source": [
    "test(\"f1\", f1, ranges, steps)\n",
    "test(\"f2\", f2, ranges, steps)\n",
    "test(\"f3\", f3, ranges, steps)"
   ]
  },
  {
   "cell_type": "code",
   "execution_count": null,
   "metadata": {},
   "outputs": [],
   "source": []
  }
 ],
 "metadata": {
  "kernelspec": {
   "display_name": "Python 3",
   "language": "python",
   "name": "python3"
  },
  "language_info": {
   "codemirror_mode": {
    "name": "ipython",
    "version": 3
   },
   "file_extension": ".py",
   "mimetype": "text/x-python",
   "name": "python",
   "nbconvert_exporter": "python",
   "pygments_lexer": "ipython3",
   "version": "3.6.6"
  }
 },
 "nbformat": 4,
 "nbformat_minor": 2
}
