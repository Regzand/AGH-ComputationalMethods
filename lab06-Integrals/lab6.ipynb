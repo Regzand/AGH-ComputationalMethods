{
 "cells": [
  {
   "cell_type": "markdown",
   "metadata": {},
   "source": [
    "## Integrals\n",
    "---"
   ]
  },
  {
   "cell_type": "markdown",
   "metadata": {},
   "source": [
    "### Rectangle method\n",
    "$$ h = \\frac{b-a}{n} $$\n",
    "$$ \\int_a^b{f(x)dx} = \\sum_{i=0}^{n-1}{f(a+hi)}$$"
   ]
  },
  {
   "cell_type": "code",
   "execution_count": 1,
   "metadata": {},
   "outputs": [],
   "source": [
    "def integral_rectangles(f, a, b, n):\n",
    "    h = (b - a) / float(n)\n",
    "    return sum(\n",
    "        f(a + h * i) * h\n",
    "        for i in range(n)\n",
    "    )"
   ]
  },
  {
   "cell_type": "markdown",
   "metadata": {},
   "source": [
    "### Trapezoidal method\n",
    "$$ h = \\frac{b-a}{n} $$\n",
    "$$ \\int_a^b{f(x)dx} = \\sum_{i=0}^{n-1}{\\frac{f(a+hi)+f(a+h(i+1))}{2}h}$$"
   ]
  },
  {
   "cell_type": "code",
   "execution_count": 2,
   "metadata": {},
   "outputs": [],
   "source": [
    "def integral_trapezoidal(f, a, b, n):\n",
    "    h = (b - a) / float(n)\n",
    "    return sum(\n",
    "        (f(a + h * i) + f(a + h * (i+1))) / 2.0 * h\n",
    "        for i in range(n)\n",
    "    )"
   ]
  },
  {
   "cell_type": "markdown",
   "metadata": {},
   "source": [
    "### Simpson mathod\n",
    "$$ h = \\frac{b-a}{n} $$\n",
    "$$ \\int_a^b{f(x)dx} = \\frac{h}{3}(f(a) + \\sum_{i=0}^{\\frac{n}{2}}{f(a + h(2i + 1))}+ \\sum_{i=1}^{\\frac{n}{2}-1}{f(a + 2ih)} +f(b))$$"
   ]
  },
  {
   "cell_type": "code",
   "execution_count": 3,
   "metadata": {},
   "outputs": [],
   "source": [
    "def integral_simpson(f, a, b, n):\n",
    "    if n%2 != 0:\n",
    "        raise ValueError(\"Number of steps in simpson mathod has to be even\")\n",
    "        \n",
    "    h = (b - a) / float(n)\n",
    "    return (h / 3.0) * (\n",
    "        f(a) +\n",
    "        4 * sum(f(a + i * h) for i in range(1, n, 2)) +\n",
    "        2 * sum(f(a + i * h) for i in range(2, n-1, 2)) +\n",
    "        f(b)\n",
    "    )"
   ]
  },
  {
   "cell_type": "markdown",
   "metadata": {},
   "source": [
    "## Testing\n",
    "---"
   ]
  },
  {
   "cell_type": "code",
   "execution_count": 4,
   "metadata": {},
   "outputs": [],
   "source": [
    "from math import sin, cos, exp"
   ]
  },
  {
   "cell_type": "code",
   "execution_count": 5,
   "metadata": {},
   "outputs": [],
   "source": [
    "f1 = lambda x: x\n",
    "f2 = lambda x: 2 * x**2\n",
    "f3 = lambda x: 4 * sin(x)\n",
    "f4 = lambda x: exp(x)\n",
    "f5 = lambda x: x * sin(x)**2 + 2 * cos(x)\n",
    "f6 = lambda x: cos((x + 1)/(x**2 + 0.04)) * exp(x)\n",
    "\n",
    "ranges = [(-10,-2),(-4,0),(-2,2),(0,4),(2,10)]\n",
    "steps = range(2, 21, 2)"
   ]
  },
  {
   "cell_type": "code",
   "execution_count": 6,
   "metadata": {},
   "outputs": [],
   "source": [
    "def test(name, f, ranges, steps):\n",
    "    with open(f'results-{name}.csv', 'w') as out:\n",
    "        out.write(\"a,b,n,Rectangles,Trapezoidal,Simpson\\n\")\n",
    "        for r in ranges:\n",
    "            for n in steps:\n",
    "                int_rec = integral_rectangles(f,r[0],r[1],n)\n",
    "                int_tra = integral_trapezoidal(f,r[0],r[1],n)\n",
    "                int_sim = integral_simpson(f,r[0],r[1],n)\n",
    "                out.write(f'{r[0]},{r[1]},{n},{int_rec},{int_tra},{int_sim}\\n')"
   ]
  },
  {
   "cell_type": "markdown",
   "metadata": {},
   "source": [
    "### Tests"
   ]
  },
  {
   "cell_type": "code",
   "execution_count": 7,
   "metadata": {},
   "outputs": [],
   "source": [
    "test(\"f1\", f1, ranges, steps)\n",
    "test(\"f2\", f2, ranges, steps)\n",
    "test(\"f3\", f3, ranges, steps)\n",
    "test(\"f4\", f4, ranges, steps)\n",
    "test(\"f5\", f5, ranges, steps)\n",
    "test(\"f6\", f6, ranges, steps)"
   ]
  }
 ],
 "metadata": {
  "kernelspec": {
   "display_name": "Python 3",
   "language": "python",
   "name": "python3"
  },
  "language_info": {
   "codemirror_mode": {
    "name": "ipython",
    "version": 3
   },
   "file_extension": ".py",
   "mimetype": "text/x-python",
   "name": "python",
   "nbconvert_exporter": "python",
   "pygments_lexer": "ipython3",
   "version": "3.6.5"
  }
 },
 "nbformat": 4,
 "nbformat_minor": 2
}
